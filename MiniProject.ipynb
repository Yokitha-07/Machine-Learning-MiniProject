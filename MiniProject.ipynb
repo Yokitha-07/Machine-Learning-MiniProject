{
  "nbformat": 4,
  "nbformat_minor": 0,
  "metadata": {
    "colab": {
      "provenance": []
    },
    "kernelspec": {
      "name": "python3",
      "display_name": "Python 3"
    },
    "language_info": {
      "name": "python"
    }
  },
  "cells": [
    {
      "cell_type": "code",
      "execution_count": 32,
      "metadata": {
        "colab": {
          "base_uri": "https://localhost:8080/"
        },
        "id": "21c1usejAO8c",
        "outputId": "a457a941-5853-44a1-ff22-3ed22f8a0c24"
      },
      "outputs": [
        {
          "output_type": "stream",
          "name": "stdout",
          "text": [
            "Environment created.\n"
          ]
        }
      ],
      "source": [
        "# (a)\n",
        "import gymnasium as gym\n",
        "\n",
        "# Create FrozenLake-v1 environment with a 4x4 grid, slippery=True by default\n",
        "env = gym.make(\"FrozenLake-v1\", map_name=\"4x4\", is_slippery=True, render_mode=None)\n",
        "print(\"Environment created.\")"
      ]
    },
    {
      "cell_type": "code",
      "source": [
        "#(b)\n",
        "import numpy as np\n",
        "import pandas as pd\n",
        "\n",
        "# Initialize variables\n",
        "num_episodes = 10000\n",
        "data = []\n",
        "\n",
        "\n",
        "def get_goal_proximity(state):\n",
        "    row, col = divmod(state, 4)\n",
        "    goal_row, goal_col = 3, 3\n",
        "    return abs(goal_row - row) + abs(goal_col - col)\n",
        "\n",
        "# Collect data\n",
        "for episode in range(num_episodes):\n",
        "    state, _ = env.reset()\n",
        "    done = False\n",
        "    episode_data = []\n",
        "    total_reward = 0\n",
        "\n",
        "    while not done:\n",
        "        action = env.action_space.sample()\n",
        "        next_state, reward, done, truncated, info = env.step(action)\n",
        "\n",
        "        # Collect step data\n",
        "        episode_data.append({\n",
        "            \"State\": state,\n",
        "            \"Action\": action,\n",
        "            \"Reward\": reward,\n",
        "            \"GoalProximity\": get_goal_proximity(state)\n",
        "        })\n",
        "\n",
        "        state = next_state\n",
        "        total_reward += reward\n",
        "\n",
        "    # Add total reward to each step in the episode\n",
        "    for entry in episode_data:\n",
        "        entry[\"TotalReward\"] = total_reward\n",
        "        data.append(entry)\n",
        "\n",
        "\n",
        "\n",
        "# Convert to pandas DataFrame\n",
        "df = pd.DataFrame(data)\n",
        "\n",
        "# Show first few rows\n",
        "df.head()\n"
      ],
      "metadata": {
        "colab": {
          "base_uri": "https://localhost:8080/",
          "height": 206
        },
        "id": "fkdk2CrhAR8G",
        "outputId": "4c0b25ac-d978-4974-b375-776831649b24"
      },
      "execution_count": 41,
      "outputs": [
        {
          "output_type": "execute_result",
          "data": {
            "text/plain": [
              "   State  Action  Reward  GoalProximity  TotalReward\n",
              "0      0       2     0.0              6          0.0\n",
              "1      1       3     0.0              5          0.0\n",
              "2      1       1     0.0              5          0.0\n",
              "3      0       2     0.0              6          0.0\n",
              "4      0       2     0.0              6          0.0"
            ],
            "text/html": [
              "\n",
              "  <div id=\"df-75174e0b-5cad-4eec-8045-9cf339ef9a2d\" class=\"colab-df-container\">\n",
              "    <div>\n",
              "<style scoped>\n",
              "    .dataframe tbody tr th:only-of-type {\n",
              "        vertical-align: middle;\n",
              "    }\n",
              "\n",
              "    .dataframe tbody tr th {\n",
              "        vertical-align: top;\n",
              "    }\n",
              "\n",
              "    .dataframe thead th {\n",
              "        text-align: right;\n",
              "    }\n",
              "</style>\n",
              "<table border=\"1\" class=\"dataframe\">\n",
              "  <thead>\n",
              "    <tr style=\"text-align: right;\">\n",
              "      <th></th>\n",
              "      <th>State</th>\n",
              "      <th>Action</th>\n",
              "      <th>Reward</th>\n",
              "      <th>GoalProximity</th>\n",
              "      <th>TotalReward</th>\n",
              "    </tr>\n",
              "  </thead>\n",
              "  <tbody>\n",
              "    <tr>\n",
              "      <th>0</th>\n",
              "      <td>0</td>\n",
              "      <td>2</td>\n",
              "      <td>0.0</td>\n",
              "      <td>6</td>\n",
              "      <td>0.0</td>\n",
              "    </tr>\n",
              "    <tr>\n",
              "      <th>1</th>\n",
              "      <td>1</td>\n",
              "      <td>3</td>\n",
              "      <td>0.0</td>\n",
              "      <td>5</td>\n",
              "      <td>0.0</td>\n",
              "    </tr>\n",
              "    <tr>\n",
              "      <th>2</th>\n",
              "      <td>1</td>\n",
              "      <td>1</td>\n",
              "      <td>0.0</td>\n",
              "      <td>5</td>\n",
              "      <td>0.0</td>\n",
              "    </tr>\n",
              "    <tr>\n",
              "      <th>3</th>\n",
              "      <td>0</td>\n",
              "      <td>2</td>\n",
              "      <td>0.0</td>\n",
              "      <td>6</td>\n",
              "      <td>0.0</td>\n",
              "    </tr>\n",
              "    <tr>\n",
              "      <th>4</th>\n",
              "      <td>0</td>\n",
              "      <td>2</td>\n",
              "      <td>0.0</td>\n",
              "      <td>6</td>\n",
              "      <td>0.0</td>\n",
              "    </tr>\n",
              "  </tbody>\n",
              "</table>\n",
              "</div>\n",
              "    <div class=\"colab-df-buttons\">\n",
              "\n",
              "  <div class=\"colab-df-container\">\n",
              "    <button class=\"colab-df-convert\" onclick=\"convertToInteractive('df-75174e0b-5cad-4eec-8045-9cf339ef9a2d')\"\n",
              "            title=\"Convert this dataframe to an interactive table.\"\n",
              "            style=\"display:none;\">\n",
              "\n",
              "  <svg xmlns=\"http://www.w3.org/2000/svg\" height=\"24px\" viewBox=\"0 -960 960 960\">\n",
              "    <path d=\"M120-120v-720h720v720H120Zm60-500h600v-160H180v160Zm220 220h160v-160H400v160Zm0 220h160v-160H400v160ZM180-400h160v-160H180v160Zm440 0h160v-160H620v160ZM180-180h160v-160H180v160Zm440 0h160v-160H620v160Z\"/>\n",
              "  </svg>\n",
              "    </button>\n",
              "\n",
              "  <style>\n",
              "    .colab-df-container {\n",
              "      display:flex;\n",
              "      gap: 12px;\n",
              "    }\n",
              "\n",
              "    .colab-df-convert {\n",
              "      background-color: #E8F0FE;\n",
              "      border: none;\n",
              "      border-radius: 50%;\n",
              "      cursor: pointer;\n",
              "      display: none;\n",
              "      fill: #1967D2;\n",
              "      height: 32px;\n",
              "      padding: 0 0 0 0;\n",
              "      width: 32px;\n",
              "    }\n",
              "\n",
              "    .colab-df-convert:hover {\n",
              "      background-color: #E2EBFA;\n",
              "      box-shadow: 0px 1px 2px rgba(60, 64, 67, 0.3), 0px 1px 3px 1px rgba(60, 64, 67, 0.15);\n",
              "      fill: #174EA6;\n",
              "    }\n",
              "\n",
              "    .colab-df-buttons div {\n",
              "      margin-bottom: 4px;\n",
              "    }\n",
              "\n",
              "    [theme=dark] .colab-df-convert {\n",
              "      background-color: #3B4455;\n",
              "      fill: #D2E3FC;\n",
              "    }\n",
              "\n",
              "    [theme=dark] .colab-df-convert:hover {\n",
              "      background-color: #434B5C;\n",
              "      box-shadow: 0px 1px 3px 1px rgba(0, 0, 0, 0.15);\n",
              "      filter: drop-shadow(0px 1px 2px rgba(0, 0, 0, 0.3));\n",
              "      fill: #FFFFFF;\n",
              "    }\n",
              "  </style>\n",
              "\n",
              "    <script>\n",
              "      const buttonEl =\n",
              "        document.querySelector('#df-75174e0b-5cad-4eec-8045-9cf339ef9a2d button.colab-df-convert');\n",
              "      buttonEl.style.display =\n",
              "        google.colab.kernel.accessAllowed ? 'block' : 'none';\n",
              "\n",
              "      async function convertToInteractive(key) {\n",
              "        const element = document.querySelector('#df-75174e0b-5cad-4eec-8045-9cf339ef9a2d');\n",
              "        const dataTable =\n",
              "          await google.colab.kernel.invokeFunction('convertToInteractive',\n",
              "                                                    [key], {});\n",
              "        if (!dataTable) return;\n",
              "\n",
              "        const docLinkHtml = 'Like what you see? Visit the ' +\n",
              "          '<a target=\"_blank\" href=https://colab.research.google.com/notebooks/data_table.ipynb>data table notebook</a>'\n",
              "          + ' to learn more about interactive tables.';\n",
              "        element.innerHTML = '';\n",
              "        dataTable['output_type'] = 'display_data';\n",
              "        await google.colab.output.renderOutput(dataTable, element);\n",
              "        const docLink = document.createElement('div');\n",
              "        docLink.innerHTML = docLinkHtml;\n",
              "        element.appendChild(docLink);\n",
              "      }\n",
              "    </script>\n",
              "  </div>\n",
              "\n",
              "\n",
              "    <div id=\"df-74299b75-fa85-46ca-a5f2-be0cd17854b7\">\n",
              "      <button class=\"colab-df-quickchart\" onclick=\"quickchart('df-74299b75-fa85-46ca-a5f2-be0cd17854b7')\"\n",
              "                title=\"Suggest charts\"\n",
              "                style=\"display:none;\">\n",
              "\n",
              "<svg xmlns=\"http://www.w3.org/2000/svg\" height=\"24px\"viewBox=\"0 0 24 24\"\n",
              "     width=\"24px\">\n",
              "    <g>\n",
              "        <path d=\"M19 3H5c-1.1 0-2 .9-2 2v14c0 1.1.9 2 2 2h14c1.1 0 2-.9 2-2V5c0-1.1-.9-2-2-2zM9 17H7v-7h2v7zm4 0h-2V7h2v10zm4 0h-2v-4h2v4z\"/>\n",
              "    </g>\n",
              "</svg>\n",
              "      </button>\n",
              "\n",
              "<style>\n",
              "  .colab-df-quickchart {\n",
              "      --bg-color: #E8F0FE;\n",
              "      --fill-color: #1967D2;\n",
              "      --hover-bg-color: #E2EBFA;\n",
              "      --hover-fill-color: #174EA6;\n",
              "      --disabled-fill-color: #AAA;\n",
              "      --disabled-bg-color: #DDD;\n",
              "  }\n",
              "\n",
              "  [theme=dark] .colab-df-quickchart {\n",
              "      --bg-color: #3B4455;\n",
              "      --fill-color: #D2E3FC;\n",
              "      --hover-bg-color: #434B5C;\n",
              "      --hover-fill-color: #FFFFFF;\n",
              "      --disabled-bg-color: #3B4455;\n",
              "      --disabled-fill-color: #666;\n",
              "  }\n",
              "\n",
              "  .colab-df-quickchart {\n",
              "    background-color: var(--bg-color);\n",
              "    border: none;\n",
              "    border-radius: 50%;\n",
              "    cursor: pointer;\n",
              "    display: none;\n",
              "    fill: var(--fill-color);\n",
              "    height: 32px;\n",
              "    padding: 0;\n",
              "    width: 32px;\n",
              "  }\n",
              "\n",
              "  .colab-df-quickchart:hover {\n",
              "    background-color: var(--hover-bg-color);\n",
              "    box-shadow: 0 1px 2px rgba(60, 64, 67, 0.3), 0 1px 3px 1px rgba(60, 64, 67, 0.15);\n",
              "    fill: var(--button-hover-fill-color);\n",
              "  }\n",
              "\n",
              "  .colab-df-quickchart-complete:disabled,\n",
              "  .colab-df-quickchart-complete:disabled:hover {\n",
              "    background-color: var(--disabled-bg-color);\n",
              "    fill: var(--disabled-fill-color);\n",
              "    box-shadow: none;\n",
              "  }\n",
              "\n",
              "  .colab-df-spinner {\n",
              "    border: 2px solid var(--fill-color);\n",
              "    border-color: transparent;\n",
              "    border-bottom-color: var(--fill-color);\n",
              "    animation:\n",
              "      spin 1s steps(1) infinite;\n",
              "  }\n",
              "\n",
              "  @keyframes spin {\n",
              "    0% {\n",
              "      border-color: transparent;\n",
              "      border-bottom-color: var(--fill-color);\n",
              "      border-left-color: var(--fill-color);\n",
              "    }\n",
              "    20% {\n",
              "      border-color: transparent;\n",
              "      border-left-color: var(--fill-color);\n",
              "      border-top-color: var(--fill-color);\n",
              "    }\n",
              "    30% {\n",
              "      border-color: transparent;\n",
              "      border-left-color: var(--fill-color);\n",
              "      border-top-color: var(--fill-color);\n",
              "      border-right-color: var(--fill-color);\n",
              "    }\n",
              "    40% {\n",
              "      border-color: transparent;\n",
              "      border-right-color: var(--fill-color);\n",
              "      border-top-color: var(--fill-color);\n",
              "    }\n",
              "    60% {\n",
              "      border-color: transparent;\n",
              "      border-right-color: var(--fill-color);\n",
              "    }\n",
              "    80% {\n",
              "      border-color: transparent;\n",
              "      border-right-color: var(--fill-color);\n",
              "      border-bottom-color: var(--fill-color);\n",
              "    }\n",
              "    90% {\n",
              "      border-color: transparent;\n",
              "      border-bottom-color: var(--fill-color);\n",
              "    }\n",
              "  }\n",
              "</style>\n",
              "\n",
              "      <script>\n",
              "        async function quickchart(key) {\n",
              "          const quickchartButtonEl =\n",
              "            document.querySelector('#' + key + ' button');\n",
              "          quickchartButtonEl.disabled = true;  // To prevent multiple clicks.\n",
              "          quickchartButtonEl.classList.add('colab-df-spinner');\n",
              "          try {\n",
              "            const charts = await google.colab.kernel.invokeFunction(\n",
              "                'suggestCharts', [key], {});\n",
              "          } catch (error) {\n",
              "            console.error('Error during call to suggestCharts:', error);\n",
              "          }\n",
              "          quickchartButtonEl.classList.remove('colab-df-spinner');\n",
              "          quickchartButtonEl.classList.add('colab-df-quickchart-complete');\n",
              "        }\n",
              "        (() => {\n",
              "          let quickchartButtonEl =\n",
              "            document.querySelector('#df-74299b75-fa85-46ca-a5f2-be0cd17854b7 button');\n",
              "          quickchartButtonEl.style.display =\n",
              "            google.colab.kernel.accessAllowed ? 'block' : 'none';\n",
              "        })();\n",
              "      </script>\n",
              "    </div>\n",
              "\n",
              "    </div>\n",
              "  </div>\n"
            ],
            "application/vnd.google.colaboratory.intrinsic+json": {
              "type": "dataframe",
              "variable_name": "df",
              "summary": "{\n  \"name\": \"df\",\n  \"rows\": 75369,\n  \"fields\": [\n    {\n      \"column\": \"State\",\n      \"properties\": {\n        \"dtype\": \"number\",\n        \"std\": 3,\n        \"min\": 0,\n        \"max\": 14,\n        \"num_unique_values\": 11,\n        \"samples\": [\n          8,\n          0,\n          13\n        ],\n        \"semantic_type\": \"\",\n        \"description\": \"\"\n      }\n    },\n    {\n      \"column\": \"Action\",\n      \"properties\": {\n        \"dtype\": \"number\",\n        \"std\": 1,\n        \"min\": 0,\n        \"max\": 3,\n        \"num_unique_values\": 4,\n        \"samples\": [\n          3,\n          0,\n          2\n        ],\n        \"semantic_type\": \"\",\n        \"description\": \"\"\n      }\n    },\n    {\n      \"column\": \"Reward\",\n      \"properties\": {\n        \"dtype\": \"number\",\n        \"std\": 0.041970949806228834,\n        \"min\": 0.0,\n        \"max\": 1.0,\n        \"num_unique_values\": 2,\n        \"samples\": [\n          1.0,\n          0.0\n        ],\n        \"semantic_type\": \"\",\n        \"description\": \"\"\n      }\n    },\n    {\n      \"column\": \"GoalProximity\",\n      \"properties\": {\n        \"dtype\": \"number\",\n        \"std\": 1,\n        \"min\": 1,\n        \"max\": 6,\n        \"num_unique_values\": 6,\n        \"samples\": [\n          6,\n          5\n        ],\n        \"semantic_type\": \"\",\n        \"description\": \"\"\n      }\n    },\n    {\n      \"column\": \"TotalReward\",\n      \"properties\": {\n        \"dtype\": \"number\",\n        \"std\": 0.14992595373278128,\n        \"min\": 0.0,\n        \"max\": 1.0,\n        \"num_unique_values\": 2,\n        \"samples\": [\n          1.0,\n          0.0\n        ],\n        \"semantic_type\": \"\",\n        \"description\": \"\"\n      }\n    }\n  ]\n}"
            }
          },
          "metadata": {},
          "execution_count": 41
        }
      ]
    },
    {
      "cell_type": "code",
      "source": [
        "#(c)\n",
        "# Total reward is 1 only when the goal is reached\n",
        "success_episodes = sum(1 for d in data if d[\"TotalReward\"] == 1)\n",
        "print(f\"Proportion of successful episodes: {success_episodes / num_episodes:.4f}\")\n"
      ],
      "metadata": {
        "colab": {
          "base_uri": "https://localhost:8080/"
        },
        "id": "0KcMlxiCAmWX",
        "outputId": "e0d93e02-4b7b-465d-f508-f09f81b5b237"
      },
      "execution_count": 42,
      "outputs": [
        {
          "output_type": "stream",
          "name": "stdout",
          "text": [
            "Proportion of successful episodes: 0.1734\n"
          ]
        }
      ]
    },
    {
      "cell_type": "code",
      "source": [
        "# (d)\n",
        "from collections import defaultdict\n",
        "\n",
        "# Count successful and total (s, a) occurrences\n",
        "sa_counts = defaultdict(int)\n",
        "sa_successes = defaultdict(int)\n",
        "\n",
        "for entry in data:\n",
        "    key = (entry['State'], entry['Action'])\n",
        "    sa_counts[key] += 1\n",
        "    if entry['TotalReward'] == 1:\n",
        "        sa_successes[key] += 1\n",
        "\n",
        "# Calculate importance = success rate per (state, action)\n",
        "importance = {\n",
        "    key: sa_successes[key] / sa_counts[key]\n",
        "    for key in sa_counts\n",
        "}\n",
        "\n",
        "# Display a few examples\n",
        "for k, v in list(importance.items())[:10]:\n",
        "    print(f\"State {k[0]}, Action {k[1]}: Importance = {v:.4f}\")\n"
      ],
      "metadata": {
        "colab": {
          "base_uri": "https://localhost:8080/"
        },
        "id": "Zia8yvqwApzV",
        "outputId": "49f570fa-ae30-4209-c0fe-56406ac22c00"
      },
      "execution_count": 43,
      "outputs": [
        {
          "output_type": "stream",
          "name": "stdout",
          "text": [
            "State 0, Action 2: Importance = 0.0138\n",
            "State 1, Action 3: Importance = 0.0174\n",
            "State 1, Action 1: Importance = 0.0144\n",
            "State 2, Action 2: Importance = 0.0303\n",
            "State 2, Action 0: Importance = 0.0237\n",
            "State 2, Action 1: Importance = 0.0197\n",
            "State 3, Action 2: Importance = 0.0083\n",
            "State 4, Action 3: Importance = 0.0092\n",
            "State 0, Action 0: Importance = 0.0163\n",
            "State 4, Action 0: Importance = 0.0191\n"
          ]
        }
      ]
    },
    {
      "cell_type": "code",
      "source": [
        "#(e)\n",
        "from sklearn.ensemble import RandomForestRegressor\n",
        "from sklearn.model_selection import train_test_split\n",
        "\n",
        "# Prepare features and target\n",
        "X = [(row['State'], row['Action']) for row in data]\n",
        "y = [row['TotalReward'] for row in data]\n",
        "\n",
        "# Train-test split\n",
        "X_train, X_test, y_train, y_test = train_test_split(X, y, test_size=0.2, random_state=42)\n",
        "\n",
        "# Train a Random Forest Regressor\n",
        "model = RandomForestRegressor(n_estimators=50, random_state=42)\n",
        "model.fit(X_train, y_train)\n",
        "\n",
        "# Test accuracy (R² score)\n",
        "print(\"Model R² score on test set:\", model.score(X_test, y_test))\n"
      ],
      "metadata": {
        "colab": {
          "base_uri": "https://localhost:8080/"
        },
        "id": "Jc4yueR_A1fb",
        "outputId": "32fce0b1-4fb8-4dfc-d460-567d5f71e2a2"
      },
      "execution_count": 44,
      "outputs": [
        {
          "output_type": "stream",
          "name": "stdout",
          "text": [
            "Model R² score on test set: 0.09265560993967492\n"
          ]
        }
      ]
    },
    {
      "cell_type": "code",
      "source": [
        "#(f)\n",
        "\n",
        "# Precompute predicted Q-values for all (state, action) pairs\n",
        "q_values = {}\n",
        "for state in range(env.observation_space.n):\n",
        "    for action in range(env.action_space.n):\n",
        "        q_values[(state, action)] = model.predict([[state, action]])[0]\n",
        "\n",
        "# Define policy using precomputed values\n",
        "def model_policy(state):\n",
        "    values = [q_values[(state, a)] for a in range(env.action_space.n)]\n",
        "    return int(np.argmax(values))\n",
        "\n",
        "# Run 1000 episodes with fast policy\n",
        "successes_f = 0\n",
        "episodes_f = 1000\n",
        "\n",
        "for _ in range(episodes_f):\n",
        "    state, _ = env.reset()\n",
        "    done = False\n",
        "    while not done:\n",
        "        action = model_policy(state)\n",
        "        state, reward, done, truncated, info = env.step(action)\n",
        "        if done and reward == 1:\n",
        "            successes_f += 1\n",
        "\n",
        "success_rate_f = successes_f / episodes_f\n",
        "print(f\"Success rate (1000 episodes): {success_rate_f:.4f}\")\n"
      ],
      "metadata": {
        "colab": {
          "base_uri": "https://localhost:8080/"
        },
        "id": "JSHlHRn7iu-T",
        "outputId": "42936823-d3b4-4250-a6b7-22701dd541c5"
      },
      "execution_count": 45,
      "outputs": [
        {
          "output_type": "stream",
          "name": "stdout",
          "text": [
            "Success rate (1000 episodes): 0.2060\n"
          ]
        }
      ]
    },
    {
      "cell_type": "code",
      "source": [
        "#(g)\n",
        "\n",
        "successes_g = 0\n",
        "episodes_g = 10000\n",
        "\n",
        "for _ in range(episodes_g):\n",
        "    state, _ = env.reset()\n",
        "    done = False\n",
        "    while not done:\n",
        "        action = model_policy(state)  # uses precomputed Q-values\n",
        "        state, reward, done, truncated, info = env.step(action)\n",
        "        if done and reward == 1:\n",
        "            successes_g += 1\n",
        "\n",
        "success_rate_g = successes_g / episodes_g\n",
        "print(f\"Success rate (10,000 episodes): {success_rate_g:.4f}\")\n"
      ],
      "metadata": {
        "colab": {
          "base_uri": "https://localhost:8080/"
        },
        "id": "09enUoVOh32T",
        "outputId": "15c2f5c3-3b03-4c45-a697-615468b93328"
      },
      "execution_count": 46,
      "outputs": [
        {
          "output_type": "stream",
          "name": "stdout",
          "text": [
            "Success rate (10,000 episodes): 0.1965\n"
          ]
        }
      ]
    },
    {
      "cell_type": "code",
      "source": [
        "#(h)\n",
        "\n",
        "import random\n",
        "\n",
        "def epsilon_greedy_policy(state, epsilon=0.1):\n",
        "    if random.random() < epsilon:\n",
        "        return env.action_space.sample()  # explore\n",
        "    else:\n",
        "        return model_policy(state)   # exploit (precomputed Q-values)\n",
        "\n",
        "successes_eps = 0\n",
        "episodes_eps = 10000\n",
        "epsilon = 0.1\n",
        "\n",
        "for _ in range(episodes_eps):\n",
        "    state, _ = env.reset()\n",
        "    done = False\n",
        "    while not done:\n",
        "        action = epsilon_greedy_policy(state, epsilon)\n",
        "        state, reward, done, truncated, info = env.step(action)\n",
        "        if done and reward == 1:\n",
        "            successes_eps += 1\n",
        "\n",
        "success_rate_eps = successes_eps / episodes_eps\n",
        "print(f\"[ε-greedy] Success rate (10,000 episodes): {success_rate_eps:.4f}\")\n"
      ],
      "metadata": {
        "colab": {
          "base_uri": "https://localhost:8080/"
        },
        "id": "iW2qeq8GiK7M",
        "outputId": "8ccd6bbd-68f7-4f80-a6b8-71c79ad32122"
      },
      "execution_count": 47,
      "outputs": [
        {
          "output_type": "stream",
          "name": "stdout",
          "text": [
            "[ε-greedy] Success rate (10,000 episodes): 0.1566\n"
          ]
        }
      ]
    },
    {
      "cell_type": "code",
      "source": [
        "# Cell (i) - Compare model-guided vs ε-greedy performance (10,000 episodes each)\n",
        "\n",
        "print(\"Performance Comparison on 10,000 Episodes\")\n",
        "print(\"-----------------------------------------\")\n",
        "print(f\"Model-guided agent (greedy, part f):     {success_rate_g:.4f}\")\n",
        "print(f\"Improved agent (ε-greedy, part h):       {success_rate_eps:.4f}\")\n",
        "\n",
        "if success_rate_eps > success_rate_g:\n",
        "    print(\"\\n ε-greedy strategy improved performance by exploring alternative paths.\")\n",
        "elif success_rate_eps < success_rate_g:\n",
        "    print(\"\\n Model-guided agent performed better; exploration may have been suboptimal.\")\n",
        "else:\n",
        "    print(\"\\n Both strategies performed equally. Try tuning ε or using more advanced models.\")\n"
      ],
      "metadata": {
        "colab": {
          "base_uri": "https://localhost:8080/"
        },
        "id": "TiHAE6vziWNZ",
        "outputId": "6c1c8b2f-c6de-401a-9f54-b08b6d56df3d"
      },
      "execution_count": 48,
      "outputs": [
        {
          "output_type": "stream",
          "name": "stdout",
          "text": [
            "Performance Comparison on 10,000 Episodes\n",
            "-----------------------------------------\n",
            "Model-guided agent (greedy, part f):     0.1965\n",
            "Improved agent (ε-greedy, part h):       0.1566\n",
            "\n",
            " Model-guided agent performed better; exploration may have been suboptimal.\n"
          ]
        }
      ]
    }
  ]
}